{
  "nbformat": 4,
  "nbformat_minor": 0,
  "metadata": {
    "colab": {
      "provenance": [],
      "authorship_tag": "ABX9TyMx6JMtNr3cS1xaeUQ2p3Sn",
      "include_colab_link": true
    },
    "kernelspec": {
      "name": "python3",
      "display_name": "Python 3"
    },
    "language_info": {
      "name": "python"
    }
  },
  "cells": [
    {
      "cell_type": "markdown",
      "metadata": {
        "id": "view-in-github",
        "colab_type": "text"
      },
      "source": [
        "<a href=\"https://colab.research.google.com/github/Fernando2528/Programacion.Aplicada-Fernando-Andres-Rojas-Fernandez-/blob/main/Series_De_Taylor_ln.ipynb\" target=\"_parent\"><img src=\"https://colab.research.google.com/assets/colab-badge.svg\" alt=\"Open In Colab\"/></a>"
      ]
    },
    {
      "cell_type": "markdown",
      "source": [
        "#Taylor Series Format\n",
        "\n",
        "$ f(x) = \\sum_{n = 0}^{∞} \\frac{f^{(n)} * (a)}{n!} * (x-a)^{n}  $\n",
        "\n",
        "For this particular example a = 0\n",
        "\n",
        "##Mathematical Reasoning\n",
        "\n",
        "When n = 1\n",
        "\n",
        "$ f^{(n)} = \\frac{1}{x} $\n",
        "\n",
        "When n = 2\n",
        "\n",
        "$ f^{(n)} = \\frac{-1}{x^{2}} $\n",
        "\n",
        "When n = 3\n",
        "\n",
        "$ f^{(n)} = \\frac{-2}{x^{3}} $\n",
        "\n",
        "When n = 4\n",
        "\n",
        "$ f^{(n)} = \\frac{6}{x^{4}} $\n",
        "\n",
        "When n = 5\n",
        "\n",
        "$ f^{(n)} = \\frac{-24}{x^{5}} $\n",
        "\n",
        "\n",
        "$ f^{(n)} = (-1)^{(n-1)} * (n-1)! $\n",
        "\n",
        "\n",
        "Simplifying\n",
        "\n",
        "$ f(x) = \\frac{(n-1)!}{n!} (x)^{n} \\to f(x) = \\frac{1}{n} * (x)^{n} $\n",
        "\n",
        "\n",
        "##Imput\n",
        "\n",
        "$ x =$ Argument of the function\n",
        "\n",
        "max_iter = 100\n",
        "\n",
        "##Output\n",
        "\n",
        "Accumulated = Result of the Taylor series\n",
        "\n",
        "#Coding"
      ],
      "metadata": {
        "id": "38hhVvhqc0qJ"
      }
    },
    {
      "cell_type": "code",
      "source": [
        "def Taylor_ln(x, max_iter= 1):\n",
        "    Accumulated = 1\n",
        "    Power = x * x\n",
        "    Factorial = 2\n",
        "    Sign = -1\n",
        "\n",
        "    for n in range(max_iter):\n",
        "        Function_Progression = Power / Factorial\n",
        "        if Function_Progression < 0.001:\n",
        "            break\n",
        "        Accumulated = Accumulated + (Sign * Function_Progression)\n",
        "        Power = Power * x * x\n",
        "        Factorial = Factorial + 1\n",
        "        Sign = Sign * (-1)\n",
        "\n",
        "    return Accumulated\n",
        "\n"
      ],
      "metadata": {
        "id": "WkmuexYKm4ft"
      },
      "execution_count": null,
      "outputs": []
    }
  ]
}