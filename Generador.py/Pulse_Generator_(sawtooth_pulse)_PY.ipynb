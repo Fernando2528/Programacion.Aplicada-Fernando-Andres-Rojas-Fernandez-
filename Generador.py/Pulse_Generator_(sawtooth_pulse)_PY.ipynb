{
  "nbformat": 4,
  "nbformat_minor": 0,
  "metadata": {
    "colab": {
      "provenance": [],
      "authorship_tag": "ABX9TyNux+eEher80fATycT3PreH",
      "include_colab_link": true
    },
    "kernelspec": {
      "name": "python3",
      "display_name": "Python 3"
    },
    "language_info": {
      "name": "python"
    }
  },
  "cells": [
    {
      "cell_type": "markdown",
      "metadata": {
        "id": "view-in-github",
        "colab_type": "text"
      },
      "source": [
        "<a href=\"https://colab.research.google.com/github/Fernando2528/Programacion.Aplicada-Fernando-Andres-Rojas-Fernandez-/blob/main/Pulse_Generator_(sawtooth_pulse)_PY.ipynb\" target=\"_parent\"><img src=\"https://colab.research.google.com/assets/colab-badge.svg\" alt=\"Open In Colab\"/></a>"
      ]
    },
    {
      "cell_type": "markdown",
      "source": [
        "## points first straight section\n",
        "\n",
        "1. $ \\,\\, $\n",
        "  $ p1(0 , \\frac{-a}{2} + offset) \\,\\, ; \\,\\, p2(T , \\frac{a}{2} + \\,\\, offset)$\n",
        "\n",
        "  finding the slope of the line\n",
        "\n",
        "  $ m_{1}= \\frac{y_{2} - y_{1}}{x_{2}- x_{1}} = \\frac{(\\frac{a}{2}) + offset - (\\frac{-a}{2} +\\,\\,  offset)}{T - 0} = \\frac{a}{T} $\n",
        "\n",
        "  Knowing that for $ x = 0 \\to y = \\frac{-a}{2} + \\,\\, offset $\n",
        "\n",
        "  $ y = mx + b \\to \\frac{-a}{2} * 0 + b \\to b = \\frac{-a}{2} + \\,\\, offset $\n",
        "\n",
        "  $ y = \\frac{a}{T} * x + (\\frac{-a}{2} + \\,\\, offset) $\n",
        "\n",
        "  then the equation that allows converting time to voltage is\n",
        "\n",
        "  $ y = \\frac{a}{T} * x + (\\frac{-a}{2} + offset) $\n",
        "***\n",
        "\n",
        "2. $ \\,\\, $  With the equation found, the module is used to obtain a y-value, this y-value will correspond to the translation of the x-value used to model the conversion.\n",
        "\n",
        "$ Voltage = (\\frac{a}{T}) *$ (t%T)$ + (\\frac{-a}{2} + \\,\\, offset) $\n",
        "\n",
        "$ t =t \\,\\, ; \\,\\, return \\, (t \\,\\, , \\,\\, voltage) $\n",
        "\n",
        "***\n",
        "\n",
        "3. finally, the time and voltage must be converted into pixels.\n",
        "\n",
        "- voltage to pixel conversion\n",
        "\n",
        "$ p1(10 \\,\\, , \\,\\, 0) \\,\\, ; \\,\\, p2(-10 \\,\\, , \\,\\, 128) $\n",
        "\n",
        "$ M_{vp} = \\frac{y_{2} - y_{1}}{x_{2} - x_{1}} = \\frac{128}{-10-10} = \\frac{-128}{20} =\\frac{-64}{10} $\n",
        "\n",
        "knowing that on $ x = 10 \\to y= 0 $\n",
        "\n",
        "$ y_{vp} = m_{vp} * x + b \\to 0 = \\frac{-64}{10} * 10 + b $\n",
        "\n",
        "$ b = 64 \\to \\frac{-64}{10} * x + 64 $\n",
        "\n",
        "- time to pixel conversion\n",
        "\n",
        "$ p1(0 \\,\\, , \\,\\, 0) \\,\\, ; \\,\\, p2(NS \\,\\, , \\,\\, 512) $\n",
        "\n",
        "\n",
        "The cut-off point is at 0, so the situation is extrapolated to a rule of three\n",
        "\n",
        "$ m = \\frac{512 - 0}{NS - 0} \\to y = \\frac{512}{NS} * t + 0 $\n",
        "***\n",
        "\n",
        "4. coding version 1\n",
        "\n",
        "input parameters.\n",
        "\n",
        "- t : time of the point to be plotted\n",
        "- f: pulse frequency\n",
        "- NS: number of seconds to be plotted\n",
        "- a: Amplitude of the signal (Vpp)\n",
        "- offset: continuous phase shift voltage injected to the function\n",
        "\n",
        "***"
      ],
      "metadata": {
        "id": "xielSkSiJUrI"
      }
    },
    {
      "cell_type": "code",
      "source": [
        "def PWM_Diente_De_Sierra (t, f,NS, a, offset ):\n",
        "\n",
        "  T = 1/f\n",
        "  Voltage = (a/T) * (t%T) + (((-a)/(2)) + offset)\n",
        "  Voltage_To_Pixels = (((-64)/(10)) * Voltage + 64)\n",
        "  Time_To_Pixels = ((512)/(NS)) * t\n",
        "\n",
        "  return int(Time_To_Pixels) , int(Voltage_To_Pixels)\n",
        "\n",
        "t =1\n",
        "f= 1\n",
        "NS = 1\n",
        "a = 2\n",
        "offset = 1\n",
        "\n",
        "\n",
        "print(PWM_Diente_De_Sierra(t,f,NS,a,offset))"
      ],
      "metadata": {
        "colab": {
          "base_uri": "https://localhost:8080/"
        },
        "id": "m9N6ArP9R8hq",
        "outputId": "550a8627-1066-49a8-e7ce-9470b2587b73"
      },
      "execution_count": 4,
      "outputs": [
        {
          "output_type": "stream",
          "name": "stdout",
          "text": [
            "(512, 64)\n"
          ]
        }
      ]
    },
    {
      "cell_type": "markdown",
      "source": [
        "# Improved Version\n",
        "\n",
        "Input Parameters\n",
        "\n",
        "- t : time of the point to be plotted\n",
        "- f: pulse frequency\n",
        "- NC: number of elapsed cycles\n",
        "- a: Amplitude of the signal (Vpp)\n",
        "- offset: continuous phase shift voltage injected to the function\n",
        "\n",
        "(The function will be extrapolated to the number of cycles to be plotted, since the oscilloscopes pre-determine this value to determine the preliminary time to be plotted, after this preliminary time the users can modify the time to be plotted by turning the knob which will reassign values for the variable number of cycles)\n",
        "\n",
        "***\n",
        "\n",
        "1. $ \\,\\, $\n",
        "  $ p1(0 , \\frac{-a}{2} + offset) \\,\\, ; \\,\\, p2(T , \\frac{a}{2} + \\,\\, offset)$\n",
        "\n",
        "  finding the slope of the line\n",
        "\n",
        "  $ m_{1}= \\frac{y_{2} - y_{1}}{x_{2}- x_{1}} = \\frac{(\\frac{a}{2}) + offset - (\\frac{-a}{2} +\\,\\,  offset)}{T - 0} = \\frac{a}{T} $\n",
        "\n",
        "  Knowing that for $ x = 0 \\to y = \\frac{-a}{2} + \\,\\, offset $\n",
        "\n",
        "  $ y = mx + b \\to \\frac{-a}{2} * 0 + b \\to b = \\frac{-a}{2} + \\,\\, offset $\n",
        "\n",
        "  $ y = \\frac{a}{T} * x + (\\frac{-a}{2} + \\,\\, offset) $\n",
        "\n",
        "  then the equation that allows converting time to voltage is\n",
        "\n",
        "  $ y = \\frac{a}{T} * x + (\\frac{-a}{2} + offset) $\n",
        "***\n",
        "\n",
        "2. $ \\,\\, $  With the equation found, the module is used to obtain a y-value, this y-value will correspond to the translation of the x-value used to model the conversion.\n",
        "\n",
        "$ Voltage = (\\frac{a}{T}) *$ (t%T)$ + (\\frac{-a}{2} + \\,\\, offset) $\n",
        "\n",
        "$ t =t \\,\\, ; \\,\\, return \\, (t \\,\\, , \\,\\, voltage) $\n",
        "***\n",
        "\n",
        "3. finally, the time and voltage must be converted into pixels.\n",
        "\n",
        "- voltage to pixel conversion\n",
        "\n",
        "$ p1(10 \\,\\, , \\,\\, 0) \\,\\, ; \\,\\, p2(-10 \\,\\, , \\,\\, 128) $\n",
        "\n",
        "$ M_{vp} = \\frac{y_{2} - y_{1}}{x_{2} - x_{1}} = \\frac{128}{-10-10} = \\frac{-128}{20} =\\frac{-64}{10} $\n",
        "\n",
        "knowing that on $ x = 10 \\to y= 0 $\n",
        "\n",
        "$ y_{vp} = m_{vp} * x + b \\to 0 = \\frac{-64}{10} * 10 + b $\n",
        "\n",
        "$ b = 64 \\to \\frac{-64}{10} * x + 64 $\n",
        "\n",
        "- time to pixel conversion\n",
        "\n",
        "time elapsed (NS) = $ \\frac{number \\,\\, of \\,\\, elapsed \\,\\, cycles \\,\\, (NC)}{pulse \\,\\, rate \\,\\, (f)} $\n",
        "\n",
        "$ NS = \\frac{NC}{f} $\n",
        "\n",
        "$ p1(0 \\,\\, , \\,\\, 0) \\,\\, ; \\,\\, p2(NS \\,\\, , \\,\\, 512) $\n",
        "\n",
        "\n",
        "The cut-off point is at 0, so the situation is extrapolated to a rule of three\n",
        "\n",
        "$ m = \\frac{512 - 0}{NS - 0} \\to y = \\frac{512}{NS} * t + 0 $\n",
        "***\n",
        "\n",
        "# Coding\n"
      ],
      "metadata": {
        "id": "VkWmBKYHUUoL"
      }
    },
    {
      "cell_type": "code",
      "execution_count": 5,
      "metadata": {
        "colab": {
          "base_uri": "https://localhost:8080/"
        },
        "id": "uQFOS-eFFCiH",
        "outputId": "8c8e754e-4eba-49a7-8f43-1f52a1865913"
      },
      "outputs": [
        {
          "output_type": "stream",
          "name": "stdout",
          "text": [
            "(512, 64)\n"
          ]
        }
      ],
      "source": [
        "def PWM_Saw_Tooth (t, f,NC, a, offset ):\n",
        "\n",
        "  T = 1/f\n",
        "  NS = ((NC)/(f))\n",
        "\n",
        "  Voltage = (a/T) * (t%T) + (((-a)/(2)) + offset)\n",
        "  Voltage_To_Pixels = (((-64)/(10)) * Voltage + 64)\n",
        "\n",
        "  Time_To_Pixels = ((512)/(NS)) * t\n",
        "\n",
        "  return int(Time_To_Pixels) , int(Voltage_To_Pixels)\n",
        "\n",
        "t =1\n",
        "f= 1\n",
        "NC = 1\n",
        "a = 2\n",
        "offset = 1\n",
        "\n",
        "\n",
        "print(PWM_Diente_De_Sierra(t,f,NS,a,offset))"
      ]
    }
  ]
}
