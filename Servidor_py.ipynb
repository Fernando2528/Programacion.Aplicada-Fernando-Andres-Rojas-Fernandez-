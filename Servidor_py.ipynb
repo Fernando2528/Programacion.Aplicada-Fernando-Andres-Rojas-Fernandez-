{
  "nbformat": 4,
  "nbformat_minor": 0,
  "metadata": {
    "colab": {
      "provenance": [],
      "authorship_tag": "ABX9TyMdcT44xRjzuw5iQhRpt6gm",
      "include_colab_link": true
    },
    "kernelspec": {
      "name": "python3",
      "display_name": "Python 3"
    },
    "language_info": {
      "name": "python"
    }
  },
  "cells": [
    {
      "cell_type": "markdown",
      "metadata": {
        "id": "view-in-github",
        "colab_type": "text"
      },
      "source": [
        "<a href=\"https://colab.research.google.com/github/Fernando2528/Programacion.Aplicada-Fernando-Andres-Rojas-Fernandez-/blob/main/Servidor_py.ipynb\" target=\"_parent\"><img src=\"https://colab.research.google.com/assets/colab-badge.svg\" alt=\"Open In Colab\"/></a>"
      ]
    },
    {
      "cell_type": "markdown",
      "source": [
        "#Note: in tis file will contain the code of a server that allows the comunication between the fornt end(HTML) and the Back end(Circuito Python) having as purpose to allow the remote control of the mechanical arm.\n",
        "\n",
        "##Version 0.1 (test version)\n",
        "\n",
        "###Main Objetive: Manage the led status trought remote indications. (Remote inputs)"
      ],
      "metadata": {
        "id": "QofFq1vn2l1e"
      }
    },
    {
      "cell_type": "code",
      "execution_count": null,
      "metadata": {
        "id": "qjtEK3P72EgO"
      },
      "outputs": [],
      "source": [
        "import wifi\n",
        "import socketpool\n",
        "import board\n",
        "import time\n",
        "import digitalio\n",
        "\n",
        "# Conectar a la red Wi-Fi\n",
        "wifi.radio.connect(\"PruebaPi\", \"11223344\")\n",
        "pool = socketpool.SocketPool(wifi.radio)\n",
        "\n",
        "# Mostrar la dirección IP asignada\n",
        "print(\"Connected to Wi-Fi\")\n",
        "print(\"IP Address:\", wifi.radio.ipv4_address)\n",
        "\n",
        "# Configurar el LED\n",
        "led = digitalio.DigitalInOut(board.GP14)\n",
        "led.direction = digitalio.Direction.OUTPUT\n",
        "\n",
        "# Configurar el servidor para redirigir al navegador\n",
        "PORT = 80\n",
        "s = pool.socket()\n",
        "s.setsockopt(pool.SOL_SOCKET, pool.SO_REUSEADDR, 1)\n",
        "s.bind((\"\", PORT))\n",
        "s.listen(5)\n",
        "\n",
        "print(\"Serving at port\", PORT)\n",
        "\n",
        "while True:\n",
        "    conn, addr = s.accept()\n",
        "    print(\"Got a connection from\", addr)\n",
        "\n",
        "    # Leer datos de la conexión\n",
        "    try:\n",
        "        request = conn.recv(1024)\n",
        "        request_str = str(request, 'utf-8')\n",
        "        print(\"Request:\", request_str)\n",
        "\n",
        "        # Control del LED basado en la solicitud\n",
        "        if \"Servomotor_1_Led_1_Status=true\" in request_str:\n",
        "            led.value = True\n",
        "            print(\"LED encendido\")\n",
        "        elif \"Servomotor_1_Led_2_Status=true\" in request_str:\n",
        "            led.value = False\n",
        "            print(\"LED apagado\")\n",
        "\n",
        "    except Exception as e:\n",
        "        print(\"Error processing request:\", e)\n",
        "\n",
        "    # Enviar la redirección HTTP al navegador\n",
        "    github_html_url = \"https://fernando2528.github.io/Programacion.Aplicada-Fernando-Andres-Rojas-Fernandez-/Remote_Control.html\"\n",
        "    try:\n",
        "        conn.send(b\"HTTP/1.1 302 Found\\r\\n\")\n",
        "        conn.send(f\"Location: {github_html_url}\\r\\n\".encode('utf-8'))\n",
        "        conn.send(b\"Connection: close\\r\\n\\r\\n\")\n",
        "    except Exception as e:\n",
        "        print(\"Error sending response:\", e)\n",
        "    finally:\n",
        "        conn.close()\n",
        "\n",
        "    # Pequeña pausa para evitar saturar el loop\n",
        "    time.sleep(0.1)\n"
      ]
    }
  ]
}