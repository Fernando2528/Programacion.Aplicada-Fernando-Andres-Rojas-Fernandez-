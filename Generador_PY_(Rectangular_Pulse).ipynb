{
  "nbformat": 4,
  "nbformat_minor": 0,
  "metadata": {
    "colab": {
      "provenance": [],
      "authorship_tag": "ABX9TyNNddohglOIhqF2jirKmID8",
      "include_colab_link": true
    },
    "kernelspec": {
      "name": "python3",
      "display_name": "Python 3"
    },
    "language_info": {
      "name": "python"
    }
  },
  "cells": [
    {
      "cell_type": "markdown",
      "metadata": {
        "id": "view-in-github",
        "colab_type": "text"
      },
      "source": [
        "<a href=\"https://colab.research.google.com/github/Fernando2528/Programacion.Aplicada-Fernando-Andres-Rojas-Fernandez-/blob/main/Generador_PY_(Rectangular_Pulse).ipynb\" target=\"_parent\"><img src=\"https://colab.research.google.com/assets/colab-badge.svg\" alt=\"Open In Colab\"/></a>"
      ]
    },
    {
      "cell_type": "markdown",
      "source": [
        "# Rectangular Pulse Generator\n",
        "***\n",
        "### Required Data\n",
        "\n",
        "- f: frecuency (hz)\n",
        "- a: Amplitude (V , peak to peak voltage)\n",
        "\n",
        "***\n",
        "### Output Data\n",
        "\n",
        "- x coordinate (Pixel Format)\n",
        "- y coordinate (Pixel Format)\n",
        "\n",
        "\n",
        "***\n",
        "### Mathematic Process\n",
        "\n",
        "1. R1 convert amplitude to pixel\n",
        "2. R2 convert time to pixel\n",
        "3. R3 covert time to frecuecy\n",
        "\n",
        "***\n",
        "- R1: p1(10 , 0) ; p2(-10 , 128)\n",
        "\n",
        "m1 = $ \\frac{128 - 0}{-10-10} = \\frac{-128}{20} $\n",
        "\n",
        "Knowing that on voltage = 10 -> pixeles = 0\n",
        "\n",
        "$ y = m_{x} + b \\to 0 = \\frac {-120 * 10}{20}+ b \\to b =64 $\n",
        "\n",
        "$ y = \\frac{-128}{20} * x + 64 $\n",
        "\n",
        "***\n",
        "\n",
        "- R2:  p3(0 , 0) ; p4(2.5 , 512)\n",
        "\n",
        "$ m_{2} = \\frac{512 - 0}{2.5 - 0} $\n",
        "\n",
        "\n",
        "Knowing that on f = 0 ; pixels = 0\n",
        "\n",
        "\n",
        "$ y = m_{x} + b \\to 0 = \\frac{512}{2.5} * 0 + b \\to 0 $\n",
        "\n",
        "\n",
        "$ y = \\frac{512}{2.5} * f $\n",
        "\n",
        "***\n",
        "\n",
        "Expressing t as a function of frequency\n",
        "$ f = \\frac{number \\,\\, of \\,\\, cycles}{time} \\to f = \\frac{N_C}{t} \\to t = \\frac{N_C}{f} = \\frac{2.5}{f}$\n",
        "\n",
        "***\n",
        "\n"
      ],
      "metadata": {
        "id": "lrslPBuQVWci"
      }
    },
    {
      "cell_type": "markdown",
      "source": [
        "# preliminary programmable version"
      ],
      "metadata": {
        "id": "XSk2AYsDk4KR"
      }
    },
    {
      "cell_type": "code",
      "execution_count": 3,
      "metadata": {
        "id": "zBu7hlSEU4cu",
        "colab": {
          "base_uri": "https://localhost:8080/"
        },
        "outputId": "a35faf31-d267-4802-cfcc-630bdad659aa"
      },
      "outputs": [
        {
          "output_type": "stream",
          "name": "stdout",
          "text": [
            "(1024.0, 96.0)\n"
          ]
        }
      ],
      "source": [
        "def Convertion_Y_Assignation(a , f):\n",
        "\n",
        "  T = 1/f\n",
        "  t = 2.5 / f\n",
        "  Vp = a/2\n",
        "\n",
        "  Discriminant = t%T\n",
        "\n",
        "  Positive_Peak = Vp\n",
        "  Negative_Peak = Vp * (-1)\n",
        "\n",
        "  if (Discriminant < (T/2)) :\n",
        "\n",
        "    A_To_Pixel = (-128/20) * Negative_Peak + 64\n",
        "    t_To_Pixel = (512/t)\n",
        "\n",
        "    PixelX = t_To_Pixel\n",
        "    PixelY = A_To_Pixel\n",
        "\n",
        "    return (PixelX , PixelY)\n",
        "\n",
        "  elif (Discriminant >= (T/2)):\n",
        "    t_To_Pixel = (512/t)\n",
        "    PixelX = t_To_Pixel\n",
        "    A_To_Pixel = (-128/20)*Negative_Peak + 64\n",
        "    PixelY= A_To_Pixel\n",
        "    return (PixelX , PixelY)\n",
        "\n",
        "a = 10\n",
        "f = 5\n",
        "print(Convertion_Y_Assignation( a , f))\n",
        "\n"
      ]
    },
    {
      "cell_type": "markdown",
      "source": [
        "# Improved Version (Version 2)\n",
        "\n",
        "### Required Data\n",
        "\n",
        "- NC (Cycle number: number of cycles elapsed up to that time t)\n",
        "- a (Peak Voltage)\n",
        "- f (Frequency of the pulse)\n",
        "***\n",
        "### Output Data\n",
        "\n",
        "- x coordinate (Pixel Format)\n",
        "- y coordinate (Pixel Format)\n",
        "***\n",
        "\n",
        "## Mathematical Process\n",
        "\n",
        "1. Convert amplitude to pixels\n",
        "\n",
        "$ p1(a+1) \\,\\, ; \\,\\, p2(-(a+2) , 128) $\n",
        "\n",
        "(this approach allows to modify the oscilloscope's optional voltage limit at the user's choice, as allowed by the scalable voltage variation in real oscilloscopes.)\n",
        "\n",
        "$ m_{1} = \\frac{128-0}{-(a+1) - (a+1)} = \\frac{128}{-2(a+1)} = \\frac{-64}{(a+1)} $\n",
        "\n",
        "\n",
        "Knowing that on $ x = a+1 \\to y = 0 $\n",
        "\n",
        "$ 0 = \\frac{-64}{(a+1)} * (a+1) + b \\to b = 64 $\n",
        "\n",
        "$ y = mx + b \\to y = \\frac{-64}{(a+1)} * x + 64 $\n",
        "***\n",
        "2. Convert frequency to pixels\n",
        "\n",
        "$ p3(0,0) \\,\\, ; \\,\\, p4(N_C , 512)$\n",
        "\n",
        "$ m_{2} = \\frac{512 - 0}{NC - 0} = \\frac{512}{NC} $\n",
        "\n",
        "\n",
        "Knowing that on $ x = 0 \\to y = 0 $\n",
        "\n",
        "$ y = mx + b \\to 0 = \\frac{512}{NC} + 64 \\to b = 0$\n",
        "\n",
        "$  y = \\frac{512}{NC} * x $\n",
        "\n",
        "***\n",
        "\n",
        "3.\n",
        "\n",
        "Expressing t as a function of frequency\n",
        "\n",
        "$ f = \\frac{NC}{t} \\to t = \\frac{NC}{f} $\n",
        "\n",
        "Expressing t on pixels\n",
        "\n",
        "$ y = \\frac{512}{NC} * f = \\frac{512}{NC} * \\frac{NC}{t} = \\frac{512}{t} $\n",
        "\n",
        "***\n",
        "\n",
        "# Code Synthesis\n"
      ],
      "metadata": {
        "id": "jUzhDbHLqcoY"
      }
    },
    {
      "cell_type": "code",
      "source": [
        "def Conversion_And_Assignment(a , f , NC):\n",
        "  T = 1/f\n",
        "  t = NC/f\n",
        "  Discriminant = t%T\n",
        "\n",
        "  PX = 512/t\n",
        "\n",
        "  if (Discriminant < T/2):\n",
        "    PY = ((-64)/(a+1)) * a +64\n",
        "\n",
        "  else :\n",
        "    PY = ((-64)/(a+1)) * a * (-1) +64\n",
        "\n",
        "  return (int(PX) , int(PY))\n",
        "\n",
        "a = 1\n",
        "f= 5\n",
        "NC= 10\n",
        "\n",
        "print(Conversion_And_Assignment(a , f, NC))"
      ],
      "metadata": {
        "id": "065f7a3qqpSb",
        "colab": {
          "base_uri": "https://localhost:8080/"
        },
        "outputId": "e7c3bbbe-925c-47d6-eb9f-d91189bc8e23"
      },
      "execution_count": 5,
      "outputs": [
        {
          "output_type": "stream",
          "name": "stdout",
          "text": [
            "(256, 96)\n"
          ]
        }
      ]
    },
    {
      "cell_type": "markdown",
      "source": [
        "[link text](https://)"
      ],
      "metadata": {
        "id": "g6t1CKCpVTKQ"
      }
    }
  ]
}